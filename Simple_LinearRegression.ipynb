{
  "nbformat": 4,
  "nbformat_minor": 0,
  "metadata": {
    "colab": {
      "name": "Simple_LinearRegression.ipynb",
      "provenance": [],
      "toc_visible": true,
      "authorship_tag": "ABX9TyNRTasurLU/L2h1gUfulRE+",
      "include_colab_link": true
    },
    "kernelspec": {
      "name": "python3",
      "display_name": "Python 3"
    },
    "language_info": {
      "name": "python"
    }
  },
  "cells": [
    {
      "cell_type": "markdown",
      "metadata": {
        "id": "view-in-github",
        "colab_type": "text"
      },
      "source": [
        "<a href=\"https://colab.research.google.com/github/yardenzaki/yardenzaki/blob/main/Simple_LinearRegression.ipynb\" target=\"_parent\"><img src=\"https://colab.research.google.com/assets/colab-badge.svg\" alt=\"Open In Colab\"/></a>"
      ]
    },
    {
      "cell_type": "markdown",
      "source": [
        "# Simple linear regression test"
      ],
      "metadata": {
        "id": "S27e7-BQBt_i"
      }
    },
    {
      "cell_type": "code",
      "execution_count": 85,
      "metadata": {
        "id": "nbSHXsLbBq5i"
      },
      "outputs": [],
      "source": [
        "## impotrs\n",
        "import pandas as pd\n",
        "import numpy as np\n",
        "import seaborn as sns\n",
        "import random\n",
        "from matplotlib import pyplot as plt\n"
      ]
    },
    {
      "cell_type": "code",
      "source": [
        "#Y = 2*X + 3 with noise\n",
        "x = np.linspace(1,3*np.pi,300)\n",
        "y = 3 * np.sin(x)\n",
        "noise = np.random.uniform(-0.25,0.25,300)\n",
        "y += noise\n",
        "f' {y.mean()}'"
      ],
      "metadata": {
        "colab": {
          "base_uri": "https://localhost:8080/",
          "height": 35
        },
        "id": "RyR99oAtCsJ2",
        "outputId": "ca770a31-6dc5-4343-b511-214ae86904d6"
      },
      "execution_count": 86,
      "outputs": [
        {
          "output_type": "execute_result",
          "data": {
            "text/plain": [
              "' 0.5489603333652631'"
            ],
            "application/vnd.google.colaboratory.intrinsic+json": {
              "type": "string"
            }
          },
          "metadata": {},
          "execution_count": 86
        }
      ]
    },
    {
      "cell_type": "code",
      "source": [
        "# splitting the model\n",
        "from sklearn.model_selection import train_test_split\n",
        "X_train, X_test, y_train, y_test = train_test_split(x,y,test_size=0.2, random_state=42)\n",
        "df = pd.DataFrame()\n",
        "df[\"X_train\"]=X_train\n",
        "df[\"X_test\"]=pd.Series(X_test)\n",
        "df[\"y_train\"]=y_train\n",
        "df[\"y_test\"]=pd.Series(y_test)\n",
        "X_test =X_test.reshape(-1,1)\n",
        "X_train =X_train.reshape(-1,1)\n",
        "y_test =y_test.reshape(-1,1)\n",
        "y_train =y_train.reshape(-1,1)\n",
        "df"
      ],
      "metadata": {
        "colab": {
          "base_uri": "https://localhost:8080/",
          "height": 424
        },
        "id": "kHzetYDXIt9k",
        "outputId": "fd97ec39-f4f3-4a4f-f0c8-e8d3215dee56"
      },
      "execution_count": 87,
      "outputs": [
        {
          "output_type": "execute_result",
          "data": {
            "text/plain": [
              "      X_train    X_test   y_train    y_test\n",
              "0    7.536951  6.719833  2.979640  1.502680\n",
              "1    2.662414  8.494953  1.168351  2.181960\n",
              "2    1.169059  5.282830  2.608490 -2.572398\n",
              "3    6.212655  1.253589 -0.368313  2.928151\n",
              "4    5.874537  7.565128 -1.148466  2.955724\n",
              "..        ...       ...       ...       ...\n",
              "235  6.297185       NaN -0.069047       NaN\n",
              "236  3.000533       NaN  0.208840       NaN\n",
              "237  3.986711       NaN -2.016462       NaN\n",
              "238  8.607659       NaN  2.329306       NaN\n",
              "239  3.874005       NaN -1.925746       NaN\n",
              "\n",
              "[240 rows x 4 columns]"
            ],
            "text/html": [
              "\n",
              "  <div id=\"df-4dd7780c-43b3-442f-a6ef-a556e0852277\">\n",
              "    <div class=\"colab-df-container\">\n",
              "      <div>\n",
              "<style scoped>\n",
              "    .dataframe tbody tr th:only-of-type {\n",
              "        vertical-align: middle;\n",
              "    }\n",
              "\n",
              "    .dataframe tbody tr th {\n",
              "        vertical-align: top;\n",
              "    }\n",
              "\n",
              "    .dataframe thead th {\n",
              "        text-align: right;\n",
              "    }\n",
              "</style>\n",
              "<table border=\"1\" class=\"dataframe\">\n",
              "  <thead>\n",
              "    <tr style=\"text-align: right;\">\n",
              "      <th></th>\n",
              "      <th>X_train</th>\n",
              "      <th>X_test</th>\n",
              "      <th>y_train</th>\n",
              "      <th>y_test</th>\n",
              "    </tr>\n",
              "  </thead>\n",
              "  <tbody>\n",
              "    <tr>\n",
              "      <th>0</th>\n",
              "      <td>7.536951</td>\n",
              "      <td>6.719833</td>\n",
              "      <td>2.979640</td>\n",
              "      <td>1.502680</td>\n",
              "    </tr>\n",
              "    <tr>\n",
              "      <th>1</th>\n",
              "      <td>2.662414</td>\n",
              "      <td>8.494953</td>\n",
              "      <td>1.168351</td>\n",
              "      <td>2.181960</td>\n",
              "    </tr>\n",
              "    <tr>\n",
              "      <th>2</th>\n",
              "      <td>1.169059</td>\n",
              "      <td>5.282830</td>\n",
              "      <td>2.608490</td>\n",
              "      <td>-2.572398</td>\n",
              "    </tr>\n",
              "    <tr>\n",
              "      <th>3</th>\n",
              "      <td>6.212655</td>\n",
              "      <td>1.253589</td>\n",
              "      <td>-0.368313</td>\n",
              "      <td>2.928151</td>\n",
              "    </tr>\n",
              "    <tr>\n",
              "      <th>4</th>\n",
              "      <td>5.874537</td>\n",
              "      <td>7.565128</td>\n",
              "      <td>-1.148466</td>\n",
              "      <td>2.955724</td>\n",
              "    </tr>\n",
              "    <tr>\n",
              "      <th>...</th>\n",
              "      <td>...</td>\n",
              "      <td>...</td>\n",
              "      <td>...</td>\n",
              "      <td>...</td>\n",
              "    </tr>\n",
              "    <tr>\n",
              "      <th>235</th>\n",
              "      <td>6.297185</td>\n",
              "      <td>NaN</td>\n",
              "      <td>-0.069047</td>\n",
              "      <td>NaN</td>\n",
              "    </tr>\n",
              "    <tr>\n",
              "      <th>236</th>\n",
              "      <td>3.000533</td>\n",
              "      <td>NaN</td>\n",
              "      <td>0.208840</td>\n",
              "      <td>NaN</td>\n",
              "    </tr>\n",
              "    <tr>\n",
              "      <th>237</th>\n",
              "      <td>3.986711</td>\n",
              "      <td>NaN</td>\n",
              "      <td>-2.016462</td>\n",
              "      <td>NaN</td>\n",
              "    </tr>\n",
              "    <tr>\n",
              "      <th>238</th>\n",
              "      <td>8.607659</td>\n",
              "      <td>NaN</td>\n",
              "      <td>2.329306</td>\n",
              "      <td>NaN</td>\n",
              "    </tr>\n",
              "    <tr>\n",
              "      <th>239</th>\n",
              "      <td>3.874005</td>\n",
              "      <td>NaN</td>\n",
              "      <td>-1.925746</td>\n",
              "      <td>NaN</td>\n",
              "    </tr>\n",
              "  </tbody>\n",
              "</table>\n",
              "<p>240 rows × 4 columns</p>\n",
              "</div>\n",
              "      <button class=\"colab-df-convert\" onclick=\"convertToInteractive('df-4dd7780c-43b3-442f-a6ef-a556e0852277')\"\n",
              "              title=\"Convert this dataframe to an interactive table.\"\n",
              "              style=\"display:none;\">\n",
              "        \n",
              "  <svg xmlns=\"http://www.w3.org/2000/svg\" height=\"24px\"viewBox=\"0 0 24 24\"\n",
              "       width=\"24px\">\n",
              "    <path d=\"M0 0h24v24H0V0z\" fill=\"none\"/>\n",
              "    <path d=\"M18.56 5.44l.94 2.06.94-2.06 2.06-.94-2.06-.94-.94-2.06-.94 2.06-2.06.94zm-11 1L8.5 8.5l.94-2.06 2.06-.94-2.06-.94L8.5 2.5l-.94 2.06-2.06.94zm10 10l.94 2.06.94-2.06 2.06-.94-2.06-.94-.94-2.06-.94 2.06-2.06.94z\"/><path d=\"M17.41 7.96l-1.37-1.37c-.4-.4-.92-.59-1.43-.59-.52 0-1.04.2-1.43.59L10.3 9.45l-7.72 7.72c-.78.78-.78 2.05 0 2.83L4 21.41c.39.39.9.59 1.41.59.51 0 1.02-.2 1.41-.59l7.78-7.78 2.81-2.81c.8-.78.8-2.07 0-2.86zM5.41 20L4 18.59l7.72-7.72 1.47 1.35L5.41 20z\"/>\n",
              "  </svg>\n",
              "      </button>\n",
              "      \n",
              "  <style>\n",
              "    .colab-df-container {\n",
              "      display:flex;\n",
              "      flex-wrap:wrap;\n",
              "      gap: 12px;\n",
              "    }\n",
              "\n",
              "    .colab-df-convert {\n",
              "      background-color: #E8F0FE;\n",
              "      border: none;\n",
              "      border-radius: 50%;\n",
              "      cursor: pointer;\n",
              "      display: none;\n",
              "      fill: #1967D2;\n",
              "      height: 32px;\n",
              "      padding: 0 0 0 0;\n",
              "      width: 32px;\n",
              "    }\n",
              "\n",
              "    .colab-df-convert:hover {\n",
              "      background-color: #E2EBFA;\n",
              "      box-shadow: 0px 1px 2px rgba(60, 64, 67, 0.3), 0px 1px 3px 1px rgba(60, 64, 67, 0.15);\n",
              "      fill: #174EA6;\n",
              "    }\n",
              "\n",
              "    [theme=dark] .colab-df-convert {\n",
              "      background-color: #3B4455;\n",
              "      fill: #D2E3FC;\n",
              "    }\n",
              "\n",
              "    [theme=dark] .colab-df-convert:hover {\n",
              "      background-color: #434B5C;\n",
              "      box-shadow: 0px 1px 3px 1px rgba(0, 0, 0, 0.15);\n",
              "      filter: drop-shadow(0px 1px 2px rgba(0, 0, 0, 0.3));\n",
              "      fill: #FFFFFF;\n",
              "    }\n",
              "  </style>\n",
              "\n",
              "      <script>\n",
              "        const buttonEl =\n",
              "          document.querySelector('#df-4dd7780c-43b3-442f-a6ef-a556e0852277 button.colab-df-convert');\n",
              "        buttonEl.style.display =\n",
              "          google.colab.kernel.accessAllowed ? 'block' : 'none';\n",
              "\n",
              "        async function convertToInteractive(key) {\n",
              "          const element = document.querySelector('#df-4dd7780c-43b3-442f-a6ef-a556e0852277');\n",
              "          const dataTable =\n",
              "            await google.colab.kernel.invokeFunction('convertToInteractive',\n",
              "                                                     [key], {});\n",
              "          if (!dataTable) return;\n",
              "\n",
              "          const docLinkHtml = 'Like what you see? Visit the ' +\n",
              "            '<a target=\"_blank\" href=https://colab.research.google.com/notebooks/data_table.ipynb>data table notebook</a>'\n",
              "            + ' to learn more about interactive tables.';\n",
              "          element.innerHTML = '';\n",
              "          dataTable['output_type'] = 'display_data';\n",
              "          await google.colab.output.renderOutput(dataTable, element);\n",
              "          const docLink = document.createElement('div');\n",
              "          docLink.innerHTML = docLinkHtml;\n",
              "          element.appendChild(docLink);\n",
              "        }\n",
              "      </script>\n",
              "    </div>\n",
              "  </div>\n",
              "  "
            ]
          },
          "metadata": {},
          "execution_count": 87
        }
      ]
    },
    {
      "cell_type": "code",
      "source": [
        "sns.scatterplot(df[\"X_train\"],df[\"y_train\"],data=df)\n",
        "sns.scatterplot(df[\"X_test\"],df[\"y_test\"],data=df)\n"
      ],
      "metadata": {
        "colab": {
          "base_uri": "https://localhost:8080/",
          "height": 387
        },
        "id": "5uQnTIWKl09A",
        "outputId": "ce949f77-c2f8-411b-efea-ca5c95b09eb7"
      },
      "execution_count": 88,
      "outputs": [
        {
          "output_type": "stream",
          "name": "stderr",
          "text": [
            "/usr/local/lib/python3.7/dist-packages/seaborn/_decorators.py:43: FutureWarning: Pass the following variables as keyword args: x, y. From version 0.12, the only valid positional argument will be `data`, and passing other arguments without an explicit keyword will result in an error or misinterpretation.\n",
            "  FutureWarning\n",
            "/usr/local/lib/python3.7/dist-packages/seaborn/_decorators.py:43: FutureWarning: Pass the following variables as keyword args: x, y. From version 0.12, the only valid positional argument will be `data`, and passing other arguments without an explicit keyword will result in an error or misinterpretation.\n",
            "  FutureWarning\n"
          ]
        },
        {
          "output_type": "execute_result",
          "data": {
            "text/plain": [
              "<matplotlib.axes._subplots.AxesSubplot at 0x7f8d0c4293d0>"
            ]
          },
          "metadata": {},
          "execution_count": 88
        },
        {
          "output_type": "display_data",
          "data": {
            "text/plain": [
              "<Figure size 432x288 with 1 Axes>"
            ],
            "image/png": "[encoded data removed]"
          },
          "metadata": {
            "needs_background": "light"
          }
        }
      ]
    },
    {
      "cell_type": "code",
      "source": [
        "#Normalizing  using pipelime and StandardScaler (could use StandardScaler only... )\n",
        "from sklearn.pipeline import Pipeline\n",
        "from sklearn.preprocessing import StandardScaler\n",
        "\n",
        "X_train_pipe = Pipeline([('scaler', StandardScaler())]) ##Those two preprocessing steps happened in sequence, and that's how Sklearn pipeline works.\n",
        "X_test_pipe = Pipeline([('scaler', StandardScaler())]) ##Those two preprocessing steps happened in sequence, and that's how Sklearn pipeline works.\n",
        "\n",
        "X_train_preprocessed = X_train_pipe.fit_transform(X_train)\n",
        "X_test_preprocessed = X_test_pipe.fit_transform(X_test)\n",
        "\n",
        "#print(X_train_preprocessed)\n"
      ],
      "metadata": {
        "id": "aDkxa3l5S0PG"
      },
      "execution_count": 89,
      "outputs": []
    },
    {
      "cell_type": "markdown",
      "source": [
        "## Linear Regression"
      ],
      "metadata": {
        "id": "TDugSr_iPl9Y"
      }
    },
    {
      "cell_type": "code",
      "source": [
        "# defining the linear regression model\n",
        "from sklearn.linear_model import LinearRegression\n",
        "lr =LinearRegression()\n"
      ],
      "metadata": {
        "id": "3CnhCRJPJQe1"
      },
      "execution_count": 90,
      "outputs": []
    },
    {
      "cell_type": "code",
      "source": [
        "#fit\n",
        "lr.fit(X_train,y_train) # train"
      ],
      "metadata": {
        "colab": {
          "base_uri": "https://localhost:8080/"
        },
        "id": "CGkVoTVAJom1",
        "outputId": "f71239b5-949d-42a9-d481-7706a54eee08"
      },
      "execution_count": 91,
      "outputs": [
        {
          "output_type": "execute_result",
          "data": {
            "text/plain": [
              "LinearRegression()"
            ]
          },
          "metadata": {},
          "execution_count": 91
        }
      ]
    },
    {
      "cell_type": "code",
      "source": [
        "# Weights and bias\n",
        "lr.coef_\n"
      ],
      "metadata": {
        "colab": {
          "base_uri": "https://localhost:8080/"
        },
        "id": "7GYeqy-lKz0o",
        "outputId": "6599b460-7a50-4ac7-e7ea-8b57c3aa3e39"
      },
      "execution_count": 92,
      "outputs": [
        {
          "output_type": "execute_result",
          "data": {
            "text/plain": [
              "array([[0.05170231]])"
            ]
          },
          "metadata": {},
          "execution_count": 92
        }
      ]
    },
    {
      "cell_type": "code",
      "source": [
        "lr.intercept_"
      ],
      "metadata": {
        "colab": {
          "base_uri": "https://localhost:8080/"
        },
        "id": "Z_Ab64LyK6wN",
        "outputId": "a56d6d0e-2454-4f3d-ca9a-e2e9052a0ffb"
      },
      "execution_count": 93,
      "outputs": [
        {
          "output_type": "execute_result",
          "data": {
            "text/plain": [
              "array([0.23929466])"
            ]
          },
          "metadata": {},
          "execution_count": 93
        }
      ]
    },
    {
      "cell_type": "code",
      "source": [
        "# predict:\n",
        "from sklearn.metrics import mean_squared_error\n",
        "\n",
        "y_hat = lr.predict(X_test)\n",
        "df[\"y_hat\"] = pd.Series(y_hat.flatten())\n",
        "df"
      ],
      "metadata": {
        "colab": {
          "base_uri": "https://localhost:8080/",
          "height": 424
        },
        "id": "x5OPWX1XPA_5",
        "outputId": "aa75a1dd-7073-4e85-cede-01b50a6e9b9b"
      },
      "execution_count": 94,
      "outputs": [
        {
          "output_type": "execute_result",
          "data": {
            "text/plain": [
              "      X_train    X_test   y_train    y_test     y_hat\n",
              "0    7.536951  6.719833  2.979640  1.502680  0.586726\n",
              "1    2.662414  8.494953  1.168351  2.181960  0.678503\n",
              "2    1.169059  5.282830  2.608490 -2.572398  0.512429\n",
              "3    6.212655  1.253589 -0.368313  2.928151  0.304108\n",
              "4    5.874537  7.565128 -1.148466  2.955724  0.630429\n",
              "..        ...       ...       ...       ...       ...\n",
              "235  6.297185       NaN -0.069047       NaN       NaN\n",
              "236  3.000533       NaN  0.208840       NaN       NaN\n",
              "237  3.986711       NaN -2.016462       NaN       NaN\n",
              "238  8.607659       NaN  2.329306       NaN       NaN\n",
              "239  3.874005       NaN -1.925746       NaN       NaN\n",
              "\n",
              "[240 rows x 5 columns]"
            ],
            "text/html": [
              "\n",
              "  <div id=\"df-c842693f-f5fd-47e5-8f2f-3c1b3c721167\">\n",
              "    <div class=\"colab-df-container\">\n",
              "      <div>\n",
              "<style scoped>\n",
              "    .dataframe tbody tr th:only-of-type {\n",
              "        vertical-align: middle;\n",
              "    }\n",
              "\n",
              "    .dataframe tbody tr th {\n",
              "        vertical-align: top;\n",
              "    }\n",
              "\n",
              "    .dataframe thead th {\n",
              "        text-align: right;\n",
              "    }\n",
              "</style>\n",
              "<table border=\"1\" class=\"dataframe\">\n",
              "  <thead>\n",
              "    <tr style=\"text-align: right;\">\n",
              "      <th></th>\n",
              "      <th>X_train</th>\n",
              "      <th>X_test</th>\n",
              "      <th>y_train</th>\n",
              "      <th>y_test</th>\n",
              "      <th>y_hat</th>\n",
              "    </tr>\n",
              "  </thead>\n",
              "  <tbody>\n",
              "    <tr>\n",
              "      <th>0</th>\n",
              "      <td>7.536951</td>\n",
              "      <td>6.719833</td>\n",
              "      <td>2.979640</td>\n",
              "      <td>1.502680</td>\n",
              "      <td>0.586726</td>\n",
              "    </tr>\n",
              "    <tr>\n",
              "      <th>1</th>\n",
              "      <td>2.662414</td>\n",
              "      <td>8.494953</td>\n",
              "      <td>1.168351</td>\n",
              "      <td>2.181960</td>\n",
              "      <td>0.678503</td>\n",
              "    </tr>\n",
              "    <tr>\n",
              "      <th>2</th>\n",
              "      <td>1.169059</td>\n",
              "      <td>5.282830</td>\n",
              "      <td>2.608490</td>\n",
              "      <td>-2.572398</td>\n",
              "      <td>0.512429</td>\n",
              "    </tr>\n",
              "    <tr>\n",
              "      <th>3</th>\n",
              "      <td>6.212655</td>\n",
              "      <td>1.253589</td>\n",
              "      <td>-0.368313</td>\n",
              "      <td>2.928151</td>\n",
              "      <td>0.304108</td>\n",
              "    </tr>\n",
              "    <tr>\n",
              "      <th>4</th>\n",
              "      <td>5.874537</td>\n",
              "      <td>7.565128</td>\n",
              "      <td>-1.148466</td>\n",
              "      <td>2.955724</td>\n",
              "      <td>0.630429</td>\n",
              "    </tr>\n",
              "    <tr>\n",
              "      <th>...</th>\n",
              "      <td>...</td>\n",
              "      <td>...</td>\n",
              "      <td>...</td>\n",
              "      <td>...</td>\n",
              "      <td>...</td>\n",
              "    </tr>\n",
              "    <tr>\n",
              "      <th>235</th>\n",
              "      <td>6.297185</td>\n",
              "      <td>NaN</td>\n",
              "      <td>-0.069047</td>\n",
              "      <td>NaN</td>\n",
              "      <td>NaN</td>\n",
              "    </tr>\n",
              "    <tr>\n",
              "      <th>236</th>\n",
              "      <td>3.000533</td>\n",
              "      <td>NaN</td>\n",
              "      <td>0.208840</td>\n",
              "      <td>NaN</td>\n",
              "      <td>NaN</td>\n",
              "    </tr>\n",
              "    <tr>\n",
              "      <th>237</th>\n",
              "      <td>3.986711</td>\n",
              "      <td>NaN</td>\n",
              "      <td>-2.016462</td>\n",
              "      <td>NaN</td>\n",
              "      <td>NaN</td>\n",
              "    </tr>\n",
              "    <tr>\n",
              "      <th>238</th>\n",
              "      <td>8.607659</td>\n",
              "      <td>NaN</td>\n",
              "      <td>2.329306</td>\n",
              "      <td>NaN</td>\n",
              "      <td>NaN</td>\n",
              "    </tr>\n",
              "    <tr>\n",
              "      <th>239</th>\n",
              "      <td>3.874005</td>\n",
              "      <td>NaN</td>\n",
              "      <td>-1.925746</td>\n",
              "      <td>NaN</td>\n",
              "      <td>NaN</td>\n",
              "    </tr>\n",
              "  </tbody>\n",
              "</table>\n",
              "<p>240 rows × 5 columns</p>\n",
              "</div>\n",
              "      <button class=\"colab-df-convert\" onclick=\"convertToInteractive('df-c842693f-f5fd-47e5-8f2f-3c1b3c721167')\"\n",
              "              title=\"Convert this dataframe to an interactive table.\"\n",
              "              style=\"display:none;\">\n",
              "        \n",
              "  <svg xmlns=\"http://www.w3.org/2000/svg\" height=\"24px\"viewBox=\"0 0 24 24\"\n",
              "       width=\"24px\">\n",
              "    <path d=\"M0 0h24v24H0V0z\" fill=\"none\"/>\n",
              "    <path d=\"M18.56 5.44l.94 2.06.94-2.06 2.06-.94-2.06-.94-.94-2.06-.94 2.06-2.06.94zm-11 1L8.5 8.5l.94-2.06 2.06-.94-2.06-.94L8.5 2.5l-.94 2.06-2.06.94zm10 10l.94 2.06.94-2.06 2.06-.94-2.06-.94-.94-2.06-.94 2.06-2.06.94z\"/><path d=\"M17.41 7.96l-1.37-1.37c-.4-.4-.92-.59-1.43-.59-.52 0-1.04.2-1.43.59L10.3 9.45l-7.72 7.72c-.78.78-.78 2.05 0 2.83L4 21.41c.39.39.9.59 1.41.59.51 0 1.02-.2 1.41-.59l7.78-7.78 2.81-2.81c.8-.78.8-2.07 0-2.86zM5.41 20L4 18.59l7.72-7.72 1.47 1.35L5.41 20z\"/>\n",
              "  </svg>\n",
              "      </button>\n",
              "      \n",
              "  <style>\n",
              "    .colab-df-container {\n",
              "      display:flex;\n",
              "      flex-wrap:wrap;\n",
              "      gap: 12px;\n",
              "    }\n",
              "\n",
              "    .colab-df-convert {\n",
              "      background-color: #E8F0FE;\n",
              "      border: none;\n",
              "      border-radius: 50%;\n",
              "      cursor: pointer;\n",
              "      display: none;\n",
              "      fill: #1967D2;\n",
              "      height: 32px;\n",
              "      padding: 0 0 0 0;\n",
              "      width: 32px;\n",
              "    }\n",
              "\n",
              "    .colab-df-convert:hover {\n",
              "      background-color: #E2EBFA;\n",
              "      box-shadow: 0px 1px 2px rgba(60, 64, 67, 0.3), 0px 1px 3px 1px rgba(60, 64, 67, 0.15);\n",
              "      fill: #174EA6;\n",
              "    }\n",
              "\n",
              "    [theme=dark] .colab-df-convert {\n",
              "      background-color: #3B4455;\n",
              "      fill: #D2E3FC;\n",
              "    }\n",
              "\n",
              "    [theme=dark] .colab-df-convert:hover {\n",
              "      background-color: #434B5C;\n",
              "      box-shadow: 0px 1px 3px 1px rgba(0, 0, 0, 0.15);\n",
              "      filter: drop-shadow(0px 1px 2px rgba(0, 0, 0, 0.3));\n",
              "      fill: #FFFFFF;\n",
              "    }\n",
              "  </style>\n",
              "\n",
              "      <script>\n",
              "        const buttonEl =\n",
              "          document.querySelector('#df-c842693f-f5fd-47e5-8f2f-3c1b3c721167 button.colab-df-convert');\n",
              "        buttonEl.style.display =\n",
              "          google.colab.kernel.accessAllowed ? 'block' : 'none';\n",
              "\n",
              "        async function convertToInteractive(key) {\n",
              "          const element = document.querySelector('#df-c842693f-f5fd-47e5-8f2f-3c1b3c721167');\n",
              "          const dataTable =\n",
              "            await google.colab.kernel.invokeFunction('convertToInteractive',\n",
              "                                                     [key], {});\n",
              "          if (!dataTable) return;\n",
              "\n",
              "          const docLinkHtml = 'Like what you see? Visit the ' +\n",
              "            '<a target=\"_blank\" href=https://colab.research.google.com/notebooks/data_table.ipynb>data table notebook</a>'\n",
              "            + ' to learn more about interactive tables.';\n",
              "          element.innerHTML = '';\n",
              "          dataTable['output_type'] = 'display_data';\n",
              "          await google.colab.output.renderOutput(dataTable, element);\n",
              "          const docLink = document.createElement('div');\n",
              "          docLink.innerHTML = docLinkHtml;\n",
              "          element.appendChild(docLink);\n",
              "        }\n",
              "      </script>\n",
              "    </div>\n",
              "  </div>\n",
              "  "
            ]
          },
          "metadata": {},
          "execution_count": 94
        }
      ]
    },
    {
      "cell_type": "code",
      "source": [
        "# get prediction error \n",
        "mse = mean_squared_error(y_test, y_hat)\n",
        "print(y_train.mean())\n",
        "rmse = np.sqrt(mse)\n",
        "rmse "
      ],
      "metadata": {
        "colab": {
          "base_uri": "https://localhost:8080/"
        },
        "id": "Z1yRQ7xCPQ1Y",
        "outputId": "da0f2a6b-a2ac-4196-ae4d-f17df0bc1acc"
      },
      "execution_count": 95,
      "outputs": [
        {
          "output_type": "stream",
          "name": "stdout",
          "text": [
            "0.5084776645098628\n"
          ]
        },
        {
          "output_type": "execute_result",
          "data": {
            "text/plain": [
              "2.0225415685062957"
            ]
          },
          "metadata": {},
          "execution_count": 95
        }
      ]
    },
    {
      "cell_type": "code",
      "source": [
        "# cross val score\n",
        "from sklearn.model_selection import cross_val_score\n",
        "\n",
        "scoring = 'neg_root_mean_squared_error'\n",
        "\n",
        "scores = cross_val_score(lr, X_train, y_train, scoring=scoring, cv=10)\n",
        "# You can use `metrics.SCORERS.keys()` to display the metrics scoring that you can use.\n",
        "\n",
        "from sklearn import metrics\n",
        "print(metrics.SCORERS.keys())\n",
        "scores = -scores # The returned scores are negative. Let's make it positive.\n",
        "\n",
        "print(scores)\n",
        "scores.mean()"
      ],
      "metadata": {
        "colab": {
          "base_uri": "https://localhost:8080/"
        },
        "id": "WxEFtlIrMIdn",
        "outputId": "4485a3d2-5e66-4a65-ae6b-0be430fff7f2"
      },
      "execution_count": 96,
      "outputs": [
        {
          "output_type": "stream",
          "name": "stdout",
          "text": [
            "dict_keys(['explained_variance', 'r2', 'max_error', 'neg_median_absolute_error', 'neg_mean_absolute_error', 'neg_mean_absolute_percentage_error', 'neg_mean_squared_error', 'neg_mean_squared_log_error', 'neg_root_mean_squared_error', 'neg_mean_poisson_deviance', 'neg_mean_gamma_deviance', 'accuracy', 'top_k_accuracy', 'roc_auc', 'roc_auc_ovr', 'roc_auc_ovo', 'roc_auc_ovr_weighted', 'roc_auc_ovo_weighted', 'balanced_accuracy', 'average_precision', 'neg_log_loss', 'neg_brier_score', 'adjusted_rand_score', 'rand_score', 'homogeneity_score', 'completeness_score', 'v_measure_score', 'mutual_info_score', 'adjusted_mutual_info_score', 'normalized_mutual_info_score', 'fowlkes_mallows_score', 'precision', 'precision_macro', 'precision_micro', 'precision_samples', 'precision_weighted', 'recall', 'recall_macro', 'recall_micro', 'recall_samples', 'recall_weighted', 'f1', 'f1_macro', 'f1_micro', 'f1_samples', 'f1_weighted', 'jaccard', 'jaccard_macro', 'jaccard_micro', 'jaccard_samples', 'jaccard_weighted'])\n",
            "[2.07639385 2.11925564 2.28110482 2.25027376 2.12268541 2.08317987\n",
            " 2.26227039 1.96072057 2.07737828 2.16119573]\n"
          ]
        },
        {
          "output_type": "execute_result",
          "data": {
            "text/plain": [
              "2.139445831271437"
            ]
          },
          "metadata": {},
          "execution_count": 96
        }
      ]
    },
    {
      "cell_type": "code",
      "source": [
        "from sklearn.model_selection import cross_val_predict\n",
        "\n",
        "y_hat = cross_val_predict(lr, X_train, y_train, cv=30)\n",
        "df[\"y_hat_CV\"] = y_hat\n",
        "# get prediction error \n",
        "mse = mean_squared_error(y_train, y_hat)\n",
        "print(y_train.mean())\n",
        "rmse = np.sqrt(mse)\n",
        "rmse "
      ],
      "metadata": {
        "colab": {
          "base_uri": "https://localhost:8080/"
        },
        "id": "0XLFYqEcOp18",
        "outputId": "ff5f948a-01b8-435c-97e5-1d74e13d6104"
      },
      "execution_count": 97,
      "outputs": [
        {
          "output_type": "stream",
          "name": "stdout",
          "text": [
            "0.5084776645098628\n"
          ]
        },
        {
          "output_type": "execute_result",
          "data": {
            "text/plain": [
              "2.137359473016739"
            ]
          },
          "metadata": {},
          "execution_count": 97
        }
      ]
    },
    {
      "cell_type": "code",
      "source": [
        "df.info()"
      ],
      "metadata": {
        "colab": {
          "base_uri": "https://localhost:8080/"
        },
        "id": "W0kKcK9ps2IB",
        "outputId": "43deb2c1-41bd-48f8-f911-e6f2d441f182"
      },
      "execution_count": 98,
      "outputs": [
        {
          "output_type": "stream",
          "name": "stdout",
          "text": [
            "<class 'pandas.core.frame.DataFrame'>\n",
            "RangeIndex: 240 entries, 0 to 239\n",
            "Data columns (total 6 columns):\n",
            " #   Column    Non-Null Count  Dtype  \n",
            "---  ------    --------------  -----  \n",
            " 0   X_train   240 non-null    float64\n",
            " 1   X_test    60 non-null     float64\n",
            " 2   y_train   240 non-null    float64\n",
            " 3   y_test    60 non-null     float64\n",
            " 4   y_hat     60 non-null     float64\n",
            " 5   y_hat_CV  240 non-null    float64\n",
            "dtypes: float64(6)\n",
            "memory usage: 11.4 KB\n"
          ]
        }
      ]
    },
    {
      "cell_type": "code",
      "source": [
        "%matplotlib inline\n",
        "plt.figure(figsize=(15,15))\n",
        "plt.scatter(df[\"X_train\"],df[\"y_train\"],label = \"Train\")\n",
        "plt.scatter(df[\"X_train\"],df[\"y_hat_CV\"],label = \"CV pred\" )\n",
        "\n",
        "plt.scatter(df[\"X_test\"],df[\"y_hat\"],label = \"lin-reg pred\" )\n",
        "\n",
        "plt.scatter(df[\"X_test\"],df[\"y_test\"],label =\"Test\")\n",
        "plt.legend()\n",
        "plt.show()\n"
      ],
      "metadata": {
        "colab": {
          "base_uri": "https://localhost:8080/",
          "height": 863
        },
        "id": "_acy0lg6tnhZ",
        "outputId": "aca83e06-abad-4440-a61c-a2933f1ec6e1"
      },
      "execution_count": 99,
      "outputs": [
        {
          "output_type": "display_data",
          "data": {
            "text/plain": [
              "<Figure size 1080x1080 with 1 Axes>"
            ],
            "image/png": "[encoded data removed]"
          },
          "metadata": {
            "needs_background": "light"
          }
        }
      ]
    },
    {
      "cell_type": "markdown",
      "source": [
        "## Random Forest"
      ],
      "metadata": {
        "id": "hBT4l2zlPfen"
      }
    },
    {
      "cell_type": "code",
      "source": [
        "# Try regression with Random forest\n",
        "from sklearn.ensemble import RandomForestRegressor\n",
        "\n",
        "forest_reg = RandomForestRegressor(min_samples_split=2,bootstrap=False, random_state=42,n_jobs=-1)\n",
        "\n",
        "forest_reg.fit(X_train, y_train)"
      ],
      "metadata": {
        "colab": {
          "base_uri": "https://localhost:8080/"
        },
        "id": "r00-A5jeVWg-",
        "outputId": "49351fec-ebb9-4bee-ee36-8e0af168afff"
      },
      "execution_count": 100,
      "outputs": [
        {
          "output_type": "stream",
          "name": "stderr",
          "text": [
            "/usr/local/lib/python3.7/dist-packages/ipykernel_launcher.py:6: DataConversionWarning: A column-vector y was passed when a 1d array was expected. Please change the shape of y to (n_samples,), for example using ravel().\n",
            "  \n"
          ]
        },
        {
          "output_type": "execute_result",
          "data": {
            "text/plain": [
              "RandomForestRegressor(bootstrap=False, n_jobs=-1, random_state=42)"
            ]
          },
          "metadata": {},
          "execution_count": 100
        }
      ]
    },
    {
      "cell_type": "code",
      "source": [
        "#Evaluate thr tree\n",
        "from sklearn.metrics import mean_squared_error\n",
        "y_val_forest = forest_reg.predict(X_train)\n",
        "y_hat = forest_reg.predict(X_test)\n",
        "df[\"y_hat_forest\"]=pd.Series(y_hat)\n",
        "df[\"y_val_forest\"]=pd.Series(y_val_forest)\n",
        "# print(y_hat)\n",
        "# print(y_train)\n",
        "\n",
        "\n",
        "mse = mean_squared_error(y_test,y_hat)\n",
        "rmse = np.sqrt(mse)\n",
        "rmse"
      ],
      "metadata": {
        "colab": {
          "base_uri": "https://localhost:8080/"
        },
        "id": "FcPqFIBPWdbd",
        "outputId": "0e8c2256-afa3-4601-a5d1-defad8f14570"
      },
      "execution_count": 101,
      "outputs": [
        {
          "output_type": "execute_result",
          "data": {
            "text/plain": [
              "0.2072030589383134"
            ]
          },
          "metadata": {},
          "execution_count": 101
        }
      ]
    },
    {
      "cell_type": "code",
      "source": [
        "\n",
        "# improving forest\n",
        "forest_reg.get_params()"
      ],
      "metadata": {
        "colab": {
          "base_uri": "https://localhost:8080/"
        },
        "id": "1yjEMQrQuhOk",
        "outputId": "c4b26286-0797-4cd7-f3e5-7ed3d6ef3989"
      },
      "execution_count": 102,
      "outputs": [
        {
          "output_type": "execute_result",
          "data": {
            "text/plain": [
              "{'bootstrap': False,\n",
              " 'ccp_alpha': 0.0,\n",
              " 'criterion': 'squared_error',\n",
              " 'max_depth': None,\n",
              " 'max_features': 'auto',\n",
              " 'max_leaf_nodes': None,\n",
              " 'max_samples': None,\n",
              " 'min_impurity_decrease': 0.0,\n",
              " 'min_samples_leaf': 1,\n",
              " 'min_samples_split': 2,\n",
              " 'min_weight_fraction_leaf': 0.0,\n",
              " 'n_estimators': 100,\n",
              " 'n_jobs': -1,\n",
              " 'oob_score': False,\n",
              " 'random_state': 42,\n",
              " 'verbose': 0,\n",
              " 'warm_start': False}"
            ]
          },
          "metadata": {},
          "execution_count": 102
        }
      ]
    },
    {
      "cell_type": "code",
      "source": [
        "\n",
        "\n",
        "from sklearn.model_selection import GridSearchCV\n",
        "\n",
        "params_grid = {\n",
        "    'n_estimators':[100,200,300,400,500],\n",
        "    'max_leaf_nodes':list(range(0,20))}\n",
        "\n",
        "#refit is true by default. The best estimator is trained on the whole dataset \n",
        "\n",
        "grid_search = GridSearchCV(RandomForestRegressor(min_samples_split=2,bootstrap=False,random_state=42), params_grid, verbose=1, cv=5)\n",
        "\n",
        "grid_search.fit(X_train, y_train.ravel())"
      ],
      "metadata": {
        "id": "wUouK0P4YgmT",
        "colab": {
          "base_uri": "https://localhost:8080/"
        },
        "outputId": "fc7189b1-fd4e-4e85-eaa1-f3ab18c79735"
      },
      "execution_count": 103,
      "outputs": [
        {
          "output_type": "stream",
          "name": "stdout",
          "text": [
            "Fitting 5 folds for each of 100 candidates, totalling 500 fits\n"
          ]
        },
        {
          "output_type": "stream",
          "name": "stderr",
          "text": [
            "/usr/local/lib/python3.7/dist-packages/sklearn/model_selection/_validation.py:372: FitFailedWarning: \n",
            "50 fits failed out of a total of 500.\n",
            "The score on these train-test partitions for these parameters will be set to nan.\n",
            "If these failures are not expected, you can try to debug them by setting error_score='raise'.\n",
            "\n",
            "Below are more details about the failures:\n",
            "--------------------------------------------------------------------------------\n",
            "25 fits failed with the following error:\n",
            "Traceback (most recent call last):\n",
            "  File \"/usr/local/lib/python3.7/dist-packages/sklearn/model_selection/_validation.py\", line 680, in _fit_and_score\n",
            "    estimator.fit(X_train, y_train, **fit_params)\n",
            "  File \"/usr/local/lib/python3.7/dist-packages/sklearn/ensemble/_forest.py\", line 467, in fit\n",
            "    for i, t in enumerate(trees)\n",
            "  File \"/usr/local/lib/python3.7/dist-packages/joblib/parallel.py\", line 1043, in __call__\n",
            "    if self.dispatch_one_batch(iterator):\n",
            "  File \"/usr/local/lib/python3.7/dist-packages/joblib/parallel.py\", line 861, in dispatch_one_batch\n",
            "    self._dispatch(tasks)\n",
            "  File \"/usr/local/lib/python3.7/dist-packages/joblib/parallel.py\", line 779, in _dispatch\n",
            "    job = self._backend.apply_async(batch, callback=cb)\n",
            "  File \"/usr/local/lib/python3.7/dist-packages/joblib/_parallel_backends.py\", line 208, in apply_async\n",
            "    result = ImmediateResult(func)\n",
            "  File \"/usr/local/lib/python3.7/dist-packages/joblib/_parallel_backends.py\", line 572, in __init__\n",
            "    self.results = batch()\n",
            "  File \"/usr/local/lib/python3.7/dist-packages/joblib/parallel.py\", line 263, in __call__\n",
            "    for func, args, kwargs in self.items]\n",
            "  File \"/usr/local/lib/python3.7/dist-packages/joblib/parallel.py\", line 263, in <listcomp>\n",
            "    for func, args, kwargs in self.items]\n",
            "  File \"/usr/local/lib/python3.7/dist-packages/sklearn/utils/fixes.py\", line 216, in __call__\n",
            "    return self.function(*args, **kwargs)\n",
            "  File \"/usr/local/lib/python3.7/dist-packages/sklearn/ensemble/_forest.py\", line 187, in _parallel_build_trees\n",
            "    tree.fit(X, y, sample_weight=sample_weight, check_input=False)\n",
            "  File \"/usr/local/lib/python3.7/dist-packages/sklearn/tree/_classes.py\", line 1320, in fit\n",
            "    X_idx_sorted=X_idx_sorted,\n",
            "  File \"/usr/local/lib/python3.7/dist-packages/sklearn/tree/_classes.py\", line 316, in fit\n",
            "    max_leaf_nodes\n",
            "ValueError: max_leaf_nodes 0 must be either None or larger than 1\n",
            "\n",
            "--------------------------------------------------------------------------------\n",
            "25 fits failed with the following error:\n",
            "Traceback (most recent call last):\n",
            "  File \"/usr/local/lib/python3.7/dist-packages/sklearn/model_selection/_validation.py\", line 680, in _fit_and_score\n",
            "    estimator.fit(X_train, y_train, **fit_params)\n",
            "  File \"/usr/local/lib/python3.7/dist-packages/sklearn/ensemble/_forest.py\", line 467, in fit\n",
            "    for i, t in enumerate(trees)\n",
            "  File \"/usr/local/lib/python3.7/dist-packages/joblib/parallel.py\", line 1043, in __call__\n",
            "    if self.dispatch_one_batch(iterator):\n",
            "  File \"/usr/local/lib/python3.7/dist-packages/joblib/parallel.py\", line 861, in dispatch_one_batch\n",
            "    self._dispatch(tasks)\n",
            "  File \"/usr/local/lib/python3.7/dist-packages/joblib/parallel.py\", line 779, in _dispatch\n",
            "    job = self._backend.apply_async(batch, callback=cb)\n",
            "  File \"/usr/local/lib/python3.7/dist-packages/joblib/_parallel_backends.py\", line 208, in apply_async\n",
            "    result = ImmediateResult(func)\n",
            "  File \"/usr/local/lib/python3.7/dist-packages/joblib/_parallel_backends.py\", line 572, in __init__\n",
            "    self.results = batch()\n",
            "  File \"/usr/local/lib/python3.7/dist-packages/joblib/parallel.py\", line 263, in __call__\n",
            "    for func, args, kwargs in self.items]\n",
            "  File \"/usr/local/lib/python3.7/dist-packages/joblib/parallel.py\", line 263, in <listcomp>\n",
            "    for func, args, kwargs in self.items]\n",
            "  File \"/usr/local/lib/python3.7/dist-packages/sklearn/utils/fixes.py\", line 216, in __call__\n",
            "    return self.function(*args, **kwargs)\n",
            "  File \"/usr/local/lib/python3.7/dist-packages/sklearn/ensemble/_forest.py\", line 187, in _parallel_build_trees\n",
            "    tree.fit(X, y, sample_weight=sample_weight, check_input=False)\n",
            "  File \"/usr/local/lib/python3.7/dist-packages/sklearn/tree/_classes.py\", line 1320, in fit\n",
            "    X_idx_sorted=X_idx_sorted,\n",
            "  File \"/usr/local/lib/python3.7/dist-packages/sklearn/tree/_classes.py\", line 316, in fit\n",
            "    max_leaf_nodes\n",
            "ValueError: max_leaf_nodes 1 must be either None or larger than 1\n",
            "\n",
            "  warnings.warn(some_fits_failed_message, FitFailedWarning)\n",
            "/usr/local/lib/python3.7/dist-packages/sklearn/model_selection/_search.py:972: UserWarning: One or more of the test scores are non-finite: [       nan        nan        nan        nan        nan        nan\n",
            "        nan        nan        nan        nan 0.12937858 0.12937858\n",
            " 0.12937858 0.12937858 0.12937858 0.77783538 0.77783538 0.77783538\n",
            " 0.77783538 0.77783538 0.84047081 0.84047081 0.84047081 0.84047081\n",
            " 0.84047081 0.87564751 0.87564751 0.87564751 0.87564751 0.87564751\n",
            " 0.8932656  0.8932656  0.8932656  0.8932656  0.8932656  0.93398316\n",
            " 0.93398316 0.93398316 0.93398316 0.93398316 0.94550413 0.94550413\n",
            " 0.94550413 0.94550413 0.94550413 0.95012842 0.95012842 0.95012842\n",
            " 0.95012842 0.95012842 0.95724819 0.95724819 0.95724819 0.95724819\n",
            " 0.95724819 0.96373238 0.96373238 0.96373238 0.96373238 0.96373238\n",
            " 0.96942012 0.96942012 0.96942012 0.96942012 0.96942012 0.97162675\n",
            " 0.97162675 0.97162675 0.97162675 0.97162675 0.97407885 0.97407885\n",
            " 0.97407885 0.97407885 0.97407885 0.97654084 0.97654084 0.97654084\n",
            " 0.97654084 0.97654084 0.97741747 0.97741747 0.97741747 0.97741747\n",
            " 0.97741747 0.98038488 0.98038488 0.98038488 0.98038488 0.98038488\n",
            " 0.98133805 0.98133805 0.98133805 0.98133805 0.98133805 0.98235247\n",
            " 0.98235247 0.98235247 0.98235247 0.98235247]\n",
            "  category=UserWarning,\n"
          ]
        },
        {
          "output_type": "execute_result",
          "data": {
            "text/plain": [
              "GridSearchCV(cv=5,\n",
              "             estimator=RandomForestRegressor(bootstrap=False, random_state=42),\n",
              "             param_grid={'max_leaf_nodes': [0, 1, 2, 3, 4, 5, 6, 7, 8, 9, 10,\n",
              "                                            11, 12, 13, 14, 15, 16, 17, 18,\n",
              "                                            19],\n",
              "                         'n_estimators': [100, 200, 300, 400, 500]},\n",
              "             verbose=1)"
            ]
          },
          "metadata": {},
          "execution_count": 103
        }
      ]
    },
    {
      "cell_type": "code",
      "source": [
        "grid_search.best_params_"
      ],
      "metadata": {
        "id": "n7tVs5DdaxuN",
        "colab": {
          "base_uri": "https://localhost:8080/"
        },
        "outputId": "9c8f7743-7e1e-47f3-d9df-b0721708b6b5"
      },
      "execution_count": 104,
      "outputs": [
        {
          "output_type": "execute_result",
          "data": {
            "text/plain": [
              "{'max_leaf_nodes': 19, 'n_estimators': 100}"
            ]
          },
          "metadata": {},
          "execution_count": 104
        }
      ]
    },
    {
      "cell_type": "code",
      "source": [
        "grid_search.best_estimator_"
      ],
      "metadata": {
        "id": "fwuqRL5Ba4pu",
        "colab": {
          "base_uri": "https://localhost:8080/"
        },
        "outputId": "79d3c1e3-d004-496d-e5e4-3308f7392099"
      },
      "execution_count": 105,
      "outputs": [
        {
          "output_type": "execute_result",
          "data": {
            "text/plain": [
              "RandomForestRegressor(bootstrap=False, max_leaf_nodes=19, random_state=42)"
            ]
          },
          "metadata": {},
          "execution_count": 105
        }
      ]
    },
    {
      "cell_type": "code",
      "source": [
        "forest_best = grid_search.best_estimator_\n",
        "forest_best.score(X_test,y_test)"
      ],
      "metadata": {
        "id": "eZ4-jH2sa489",
        "colab": {
          "base_uri": "https://localhost:8080/"
        },
        "outputId": "d9e6b69e-86dd-42c9-dfce-75195d1ecfdd"
      },
      "execution_count": 106,
      "outputs": [
        {
          "output_type": "execute_result",
          "data": {
            "text/plain": [
              "0.9771828314139983"
            ]
          },
          "metadata": {},
          "execution_count": 106
        }
      ]
    },
    {
      "cell_type": "code",
      "source": [
        "y_hat = forest_best.predict(X_test)\n",
        "df[\"forest_best\"]= pd.Series(y_hat)\n",
        "mse = mean_squared_error(y_test,y_hat)\n",
        "forst_best_rmse = np.sqrt(mse)\n",
        "forst_best_rmse\n",
        "\n",
        "\n"
      ],
      "metadata": {
        "id": "QvIJgZ9Ta76f",
        "colab": {
          "base_uri": "https://localhost:8080/"
        },
        "outputId": "a7358ba2-2bf0-4faa-e189-9cf78cd845aa"
      },
      "execution_count": 107,
      "outputs": [
        {
          "output_type": "execute_result",
          "data": {
            "text/plain": [
              "0.30525173724587423"
            ]
          },
          "metadata": {},
          "execution_count": 107
        }
      ]
    },
    {
      "cell_type": "code",
      "source": [
        "# Testing the \"forest best\" on new data\n",
        "x_new = np.linspace(1,16*np.pi,1000).reshape(-1,1)\n",
        "x_new_pipe = Pipeline([('scaler', StandardScaler())]) ##Those two preprocessing steps happened in sequence, and that's how Sklearn pipeline works.\n",
        "x_new_preprocessed = x_new_pipe.fit_transform(x_new) \n",
        "x_new_preprocessed = x_new\n",
        "y_new = forest_best.predict(x_new_preprocessed)\n",
        "df[\"x_new\"]= pd.Series(x_new.flatten())\n",
        "df[\"best_forest_on_new_data\"]= pd.Series(y_new)"
      ],
      "metadata": {
        "id": "2y3-3o6DJmNK"
      },
      "execution_count": 125,
      "outputs": []
    },
    {
      "cell_type": "code",
      "source": [
        "\n"
      ],
      "metadata": {
        "id": "lgPoyV4J1VNh"
      },
      "execution_count": 108,
      "outputs": []
    },
    {
      "cell_type": "markdown",
      "source": [
        "## xgboost "
      ],
      "metadata": {
        "id": "18T6ESbPPqwW"
      }
    },
    {
      "cell_type": "code",
      "source": [
        "import xgboost as xgb"
      ],
      "metadata": {
        "id": "7G_yth5gPvDn"
      },
      "execution_count": 109,
      "outputs": []
    },
    {
      "cell_type": "code",
      "source": [
        "data_dmatrix = xgb.DMatrix(data=X_train,label=y_train) #convert the dataset into an optimized data structure called Dmatrix that XGBoost supports and gives it acclaimed performance and efficiency gains.\n",
        "\n",
        "xg_reg = xgb.XGBRegressor(colsample_bytree = 0.3, learning_rate = 0.5,\n",
        "                max_depth = 30, alpha = 10, n_estimators = 15)\n",
        "xg_reg.fit(X_train,y_train)\n",
        "preds = xg_reg.predict(X_test)\n",
        "print(preds)\n",
        "XGpreds_new = xg_reg.predict(x_new)\n",
        "df[\"XGpreds\"]= pd.Series(preds)\n",
        "df[\"XGpreds_new\"]= pd.Series(XGpreds_new)\n",
        "mse = mean_squared_error(y_test,preds)\n",
        "XG_rmse = np.sqrt(mse)\n",
        "XG_rmse\n"
      ],
      "metadata": {
        "colab": {
          "base_uri": "https://localhost:8080/"
        },
        "id": "dzdCNnIFPyvj",
        "outputId": "241fe292-1cdc-4a47-975c-4ad2e5a0b8cc"
      },
      "execution_count": 126,
      "outputs": [
        {
          "output_type": "stream",
          "name": "stdout",
          "text": [
            "[11:33:02] WARNING: /workspace/src/objective/regression_obj.cu:152: reg:linear is now deprecated in favor of reg:squarederror.\n",
            "[ 1.2810578   2.1818123  -2.4858718   2.9211392   2.9694695   2.899127\n",
            "  0.7826324  -2.171867    2.6079385  -0.9576733   3.064351    1.366095\n",
            "  2.2413986   2.4672523  -0.77595115  2.5598788   0.50684357  1.8830138\n",
            " -2.520334   -1.901505   -0.39552283 -2.6991963   2.769484    3.0503511\n",
            " -2.092868    2.4040742   1.4567018   0.11354634 -2.0201867   3.064351\n",
            "  2.99256    -1.9040682   2.6694188   3.1640885   1.8556317  -2.7134824\n",
            "  2.9808915  -1.2805924   2.1607466   0.2601198  -1.6073627   0.14866796\n",
            "  0.9972517   1.2885927  -0.39552283  1.2398376   2.7225616   2.6977017\n",
            " -2.6991963   2.9694695  -0.77595115 -2.6723497   3.0394542   0.14866796\n",
            "  0.11900908  1.6240232  -1.507421   -1.2805924   0.26827657  2.9357378 ]\n"
          ]
        },
        {
          "output_type": "execute_result",
          "data": {
            "text/plain": [
              "0.20556342684212692"
            ]
          },
          "metadata": {},
          "execution_count": 126
        }
      ]
    },
    {
      "cell_type": "code",
      "source": [
        "# xgb.plot_tree(xg_reg,num_trees=0)\n",
        "# plt.figure(figsize=(30,30))\n",
        "# plt.show()"
      ],
      "metadata": {
        "id": "XjvC_56LYkOC"
      },
      "execution_count": 111,
      "outputs": []
    },
    {
      "cell_type": "markdown",
      "source": [
        "## Comparison"
      ],
      "metadata": {
        "id": "D2BldP1ITulW"
      }
    },
    {
      "cell_type": "code",
      "source": [
        "%matplotlib inline\n",
        "plt.figure(figsize=(15,15))\n",
        "plt.scatter(df[\"X_train\"],df[\"y_train\"],label = \"Train\")\n",
        "plt.scatter(df[\"X_test\"],df[\"y_test\"],label =\"Test\")\n",
        "\n",
        "#lin-reg\n",
        "plt.scatter(df[\"X_train\"],df[\"y_hat_CV\"],label = \"lin-reg CV pred\" )\n",
        "#plt.scatter(df[\"X_test\"],df[\"y_hat\"],label = \"lin-reg pred\" )\n",
        "\n",
        "#XGboost\n",
        "plt.scatter(df[\"X_test\"],df[\"XGpreds\"],label =f\"xgboost RMSE -  {XG_rmse}\")\n",
        "plt.scatter(df[\"x_new\"],df[\"XGpreds_new\"],label =\"xgboost - new dataset\")\n",
        "\n",
        "\n",
        "# random forest\n",
        "#plt.scatter(df[\"X_test\"],df[\"y_hat_forest\"],color='k',label =\"Forest\")\n",
        "\n",
        "plt.scatter(df[\"x_new\"],df[\"best_forest_on_new_data\"],color='k',label =\"best_forest_on_new_data\")\n",
        "plt.scatter(df[\"X_test\"],df[\"forest_best\"],color='y',label =f\"forest_best RMSE- {forst_best_rmse}\")\n",
        "\n",
        "\n",
        "plt.legend()\n",
        "plt.show()"
      ],
      "metadata": {
        "colab": {
          "base_uri": "https://localhost:8080/",
          "height": 863
        },
        "id": "m0o6uo1fTxzq",
        "outputId": "9e1d9720-ae8b-416b-de73-19b972111811"
      },
      "execution_count": 127,
      "outputs": [
        {
          "output_type": "display_data",
          "data": {
            "text/plain": [
              "<Figure size 1080x1080 with 1 Axes>"
            ],
            "image/png": "[encoded data removed]"
          },
          "metadata": {
            "needs_background": "light"
          }
        }
      ]
    },
    {
      "cell_type": "markdown",
      "source": [
        "## Summary\n",
        "In this test I: \n",
        "\n",
        "\n",
        "\n",
        "1.   Pre-processed the data (Train-Test splits, Noralizing with StandardScalar using a Pipeline) \n",
        "2.   tried to eastimate a noisy sine function with:\n",
        "  *  Linear Regression - As expected, under-fits non-linear function. \n",
        "  *   Random forests estimator - due to its nonlinear capabilities, and thanks to GridSearch CV (hyperparameters optimization) it was possible to get good enough predictions with a sufficient RMSE.\n",
        "  * XGBoost which seems to be the best estimator (cons: had to fine tune the parameters)\n",
        "\n",
        "3. Both RandomForest and XGBoost cannot extrapolate on new dataset!\n",
        "\n",
        "\n",
        "\n",
        "\n",
        "\n",
        "\n"
      ],
      "metadata": {
        "id": "2If4oHF9Gmcc"
      }
    },
    {
      "cell_type": "code",
      "source": [
        ""
      ],
      "metadata": {
        "id": "l1vbUzZ9cvW-"
      },
      "execution_count": null,
      "outputs": []
    }
  ]
}